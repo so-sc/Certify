{
  "nbformat": 4,
  "nbformat_minor": 0,
  "metadata": {
    "colab": {
      "provenance": [],
      "collapsed_sections": [
        "MjvnDs7ynpqr"
      ],
      "toc_visible": true
    },
    "kernelspec": {
      "name": "python3",
      "display_name": "Python 3"
    },
    "language_info": {
      "name": "python"
    }
  },
  "cells": [
    {
      "cell_type": "markdown",
      "source": [
        "# App"
      ],
      "metadata": {
        "id": "dGebmdrAnR5-"
      }
    },
    {
      "cell_type": "markdown",
      "source": [
        "## Instructions\n",
        "\n",
        "- Run all till installtions in before itself.\n",
        "- Add templates after running till installation go to `./drive/MyDrive/certificate/templates` add the template of the certificate (as .pptx).\n",
        "- Update the `Template` variable in code under generate certificate and asign the key for the value of the file name (not the path).\n",
        "- Now add the credential for the Email, Add the email to EMAIL and app password to PASS."
      ],
      "metadata": {
        "id": "W5Ng-mdeWLBL"
      }
    },
    {
      "cell_type": "markdown",
      "source": [
        "## Connecting\n",
        "\n",
        "Connecting google drive with google colab."
      ],
      "metadata": {
        "id": "MjvnDs7ynpqr"
      }
    },
    {
      "cell_type": "code",
      "source": [
        "!mkdir drive\n",
        "from google.colab import drive\n",
        "drive.mount('/content/drive')"
      ],
      "metadata": {
        "id": "QThqowFQnweu",
        "colab": {
          "base_uri": "https://localhost:8080/"
        },
        "outputId": "8bd2c302-c512-427e-b30f-576b7bf8ec14"
      },
      "execution_count": null,
      "outputs": [
        {
          "output_type": "stream",
          "name": "stdout",
          "text": [
            "mkdir: cannot create directory ‘drive’: File exists\n",
            "Drive already mounted at /content/drive; to attempt to forcibly remount, call drive.mount(\"/content/drive\", force_remount=True).\n"
          ]
        }
      ]
    },
    {
      "cell_type": "markdown",
      "source": [
        "## Installation"
      ],
      "metadata": {
        "id": "vugqIzmonaTJ"
      }
    },
    {
      "cell_type": "code",
      "source": [
        "!pip install requests python-pptx==0.6.22 Spire.Presentation==8.9.0 Spire==0.4.2 secure-smtplib pandas openpyxl"
      ],
      "metadata": {
        "colab": {
          "base_uri": "https://localhost:8080/"
        },
        "id": "N6Dnk9XDnRTL",
        "outputId": "d0f742ef-79e3-46a4-ff31-f9909b061415"
      },
      "execution_count": null,
      "outputs": [
        {
          "output_type": "stream",
          "name": "stdout",
          "text": [
            "Requirement already satisfied: requests in /usr/local/lib/python3.10/dist-packages (2.31.0)\n",
            "Collecting python-pptx==0.6.22\n",
            "  Downloading python_pptx-0.6.22-py3-none-any.whl (471 kB)\n",
            "\u001b[2K     \u001b[90m━━━━━━━━━━━━━━━━━━━━━━━━━━━━━━━━━━━━━━━━\u001b[0m \u001b[32m471.5/471.5 kB\u001b[0m \u001b[31m8.9 MB/s\u001b[0m eta \u001b[36m0:00:00\u001b[0m\n",
            "\u001b[?25hCollecting Spire.Presentation==8.9.0\n",
            "  Downloading Spire.Presentation-8.9.0-py3-none-manylinux1_x86_64.whl (40.3 MB)\n",
            "\u001b[2K     \u001b[90m━━━━━━━━━━━━━━━━━━━━━━━━━━━━━━━━━━━━━━━━\u001b[0m \u001b[32m40.3/40.3 MB\u001b[0m \u001b[31m29.5 MB/s\u001b[0m eta \u001b[36m0:00:00\u001b[0m\n",
            "\u001b[?25hCollecting Spire==0.4.2\n",
            "  Downloading spire-0.4.2.tar.gz (1.5 MB)\n",
            "\u001b[2K     \u001b[90m━━━━━━━━━━━━━━━━━━━━━━━━━━━━━━━━━━━━━━━━\u001b[0m \u001b[32m1.5/1.5 MB\u001b[0m \u001b[31m71.8 MB/s\u001b[0m eta \u001b[36m0:00:00\u001b[0m\n",
            "\u001b[?25h  Preparing metadata (setup.py) ... \u001b[?25l\u001b[?25hdone\n",
            "Collecting secure-smtplib\n",
            "  Downloading secure_smtplib-0.1.1-py2.py3-none-any.whl (3.4 kB)\n",
            "Requirement already satisfied: pandas in /usr/local/lib/python3.10/dist-packages (1.5.3)\n",
            "Requirement already satisfied: openpyxl in /usr/local/lib/python3.10/dist-packages (3.1.2)\n",
            "Requirement already satisfied: lxml>=3.1.0 in /usr/local/lib/python3.10/dist-packages (from python-pptx==0.6.22) (4.9.3)\n",
            "Requirement already satisfied: Pillow<=9.5.0,>=3.3.2 in /usr/local/lib/python3.10/dist-packages (from python-pptx==0.6.22) (9.4.0)\n",
            "Collecting XlsxWriter>=0.5.7 (from python-pptx==0.6.22)\n",
            "  Downloading XlsxWriter-3.1.9-py3-none-any.whl (154 kB)\n",
            "\u001b[2K     \u001b[90m━━━━━━━━━━━━━━━━━━━━━━━━━━━━━━━━━━━━━━━━\u001b[0m \u001b[32m154.8/154.8 kB\u001b[0m \u001b[31m18.8 MB/s\u001b[0m eta \u001b[36m0:00:00\u001b[0m\n",
            "\u001b[?25hCollecting plum-dispatch==1.7.4 (from Spire.Presentation==8.9.0)\n",
            "  Downloading plum_dispatch-1.7.4-py3-none-any.whl (24 kB)\n",
            "Requirement already satisfied: charset-normalizer<4,>=2 in /usr/local/lib/python3.10/dist-packages (from requests) (3.3.2)\n",
            "Requirement already satisfied: idna<4,>=2.5 in /usr/local/lib/python3.10/dist-packages (from requests) (3.4)\n",
            "Requirement already satisfied: urllib3<3,>=1.21.1 in /usr/local/lib/python3.10/dist-packages (from requests) (2.0.7)\n",
            "Requirement already satisfied: certifi>=2017.4.17 in /usr/local/lib/python3.10/dist-packages (from requests) (2023.7.22)\n",
            "Requirement already satisfied: python-dateutil>=2.8.1 in /usr/local/lib/python3.10/dist-packages (from pandas) (2.8.2)\n",
            "Requirement already satisfied: pytz>=2020.1 in /usr/local/lib/python3.10/dist-packages (from pandas) (2023.3.post1)\n",
            "Requirement already satisfied: numpy>=1.21.0 in /usr/local/lib/python3.10/dist-packages (from pandas) (1.23.5)\n",
            "Requirement already satisfied: et-xmlfile in /usr/local/lib/python3.10/dist-packages (from openpyxl) (1.1.0)\n",
            "Requirement already satisfied: six>=1.5 in /usr/local/lib/python3.10/dist-packages (from python-dateutil>=2.8.1->pandas) (1.16.0)\n",
            "Building wheels for collected packages: Spire\n",
            "  Building wheel for Spire (setup.py) ... \u001b[?25l\u001b[?25hdone\n",
            "  Created wheel for Spire: filename=spire-0.4.2-py3-none-any.whl size=1575493 sha256=faab708debac08ba48ea44513d42b722ddd639b3b715dc915657494acf5282c4\n",
            "  Stored in directory: /root/.cache/pip/wheels/64/19/05/c80428de5fce514dd790337b4f404a798906db9641bca4dc79\n",
            "Successfully built Spire\n",
            "Installing collected packages: Spire, secure-smtplib, XlsxWriter, plum-dispatch, Spire.Presentation, python-pptx\n",
            "Successfully installed Spire-0.4.2 Spire.Presentation-8.9.0 XlsxWriter-3.1.9 plum-dispatch-1.7.4 python-pptx-0.6.22 secure-smtplib-0.1.1\n"
          ]
        }
      ]
    },
    {
      "cell_type": "code",
      "source": [
        "import os\n",
        "if not os.path.exists(\"./files\"):\n",
        "    os.mkdir(\"./files\")\n",
        "ppt = \"./drive/MyDrive/certificate/files/ppt\"\n",
        "if not os.path.exists(ppt):\n",
        "    os.mkdir(ppt)\n",
        "pdf = \"./drive/MyDrive/certificate/files/pdf\"\n",
        "if not os.path.exists(pdf):\n",
        "    os.mkdir(pdf)\n",
        "\n",
        "if not os.path.exists(\"./drive/MyDrive/certificate/templates\"):\n",
        "    os.mkdir(\"./drive/MyDrive/certificate/templates\")"
      ],
      "metadata": {
        "id": "nzUHvmFoSIaA"
      },
      "execution_count": null,
      "outputs": []
    },
    {
      "cell_type": "markdown",
      "source": [
        "## Code"
      ],
      "metadata": {
        "id": "s3K4_mKU08af"
      }
    },
    {
      "cell_type": "markdown",
      "source": [
        "### Generate Certificate"
      ],
      "metadata": {
        "id": "X9PhRZEt1C-8"
      }
    },
    {
      "cell_type": "code",
      "source": [
        "import smtplib, requests, os\n",
        "import pandas as pd\n",
        "from email.mime.multipart import MIMEMultipart\n",
        "from email.mime.text import MIMEText\n",
        "from pptx import Presentation as XPresentation\n",
        "from spire.presentation import *\n",
        "from spire.presentation.common import *\n",
        "\n",
        "Template = {\n",
        "    1: \"test\"\n",
        "}\n",
        "def genCertificate(template: int, value):\n",
        "    presentation = XPresentation(f'./drive/MyDrive/certificate/templates/{Template[template]}.pptx')\n",
        "    for slide in presentation.slides:\n",
        "        for shape in slide.shapes:\n",
        "            if shape.has_text_frame:\n",
        "                for paragraph in shape.text_frame.paragraphs:\n",
        "                    for run in paragraph.runs:\n",
        "                        run.text = run.text.replace(\"{name}\", value['name'])\n",
        "                        run.text = run.text.replace(\"{id}\", value['id'])\n",
        "    presentation.save(f'{ppt}/{value[\"id\"]}.pptx')\n",
        "    result = ppt2pdf(value)\n",
        "    try:\n",
        "        os.remove(f'{ppt}/{value[\"id\"]}.pptx')\n",
        "    except Exception:\n",
        "        pass\n",
        "    try:\n",
        "        os.remove(f'{pdf}/{value[\"id\"]}.pdf')\n",
        "    except Exception:\n",
        "        pass\n",
        "    return result\n",
        "\n",
        "def ppt2pdf(value):\n",
        "    presentation = Presentation()\n",
        "    presentation.LoadFromFile(f\"{ppt}/{value['id']}.pptx\")\n",
        "    slide = presentation.Slides[0]\n",
        "    slide.SaveToFile(f\"{pdf}/{value['id']}.pdf\", FileFormat.PDF)\n",
        "    presentation.Dispose()\n",
        "    rs = requests.post(\"https://certify.izaries.workers.dev/certificate\",\n",
        "        data=value,\n",
        "        files={'file': open(f\"{pdf}/{value['id']}.pdf\", 'rb')}\n",
        "    ).json()\n",
        "    if rs[\"success\"]:\n",
        "        return { \"success\": True, \"dl\": f\"https://certify.izaries.workers.dev/download/{rs['id']}\" }\n",
        "    else:\n",
        "        return { \"success\": False, \"message\": rs[\"message\"] }\n",
        "\n",
        "\n",
        "EMAIL = \"\"\n",
        "PASS = \"\"\n",
        "\n",
        "\n",
        "def sendEmail(name: str, email: str, result):\n",
        "    try:\n",
        "        html_content = f\"\"\"\n",
        "        <html>\n",
        "          <head></head>\n",
        "          <body>\n",
        "          {result}\n",
        "          </body>\n",
        "        </html>\n",
        "        \"\"\"\n",
        "        message = MIMEMultipart()\n",
        "        message[\"From\"] = EMAIL\n",
        "        message[\"To\"] = email\n",
        "        message[\"Subject\"] = \"SOSC: Certificate of Participation\"\n",
        "        message.attach(MIMEText(html_content, \"html\"))\n",
        "        server = smtplib.SMTP(\"smtp.gmail.com\", 587)\n",
        "        server.starttls()\n",
        "        server.login(EMAIL, PASS)\n",
        "        server.sendmail(EMAIL, email, message.as_string())\n",
        "        server.quit()\n",
        "        return {\"success\": True}\n",
        "    except Exception:\n",
        "        return {\"success\": False}\n",
        "\n",
        "excel_file = '/content/data.xlsx'\n",
        "df = pd.read_excel(excel_file)\n",
        "\n",
        "for i in df['SL No'].unique().tolist():\n",
        "    try:\n",
        "        result = genCertificate(1, {\"name\": df['Name'][i-1], \"id\": df['ID'][i-1]})\n",
        "        if result[\"success\"] and sendEmail(df['Name'][i-1], df['Email'][i-1], result)[\"success\"]:\n",
        "            df['Link'][i-1] = result[\"dl\"]\n",
        "            df['Sent'][i-1] = True\n",
        "            print(f\"Successfully sent to {df['Name'][i-1]} \")\n",
        "        else:\n",
        "            print(f\"Failed Name: {df['Name'][i-1]} with {result['message']}\")\n",
        "    except Exception as e:\n",
        "        print(f\"Failed Name: {df['Name'][i-1]} with {e}\")\n",
        "\n",
        "df.to_excel(excel_file, index=False)\n",
        "\n",
        "df = pd.read_excel(excel_file)\n",
        "for i in df['SL No'].unique().tolist():\n",
        "    if not bool(df['Sent'][i-1]):\n",
        "        print(f\"Was unable to send {df['Email'][i-1]} of {df['Name'][i-1]}\")\n",
        "\n",
        "\n"
      ],
      "metadata": {
        "id": "gVXYYQpR1otM"
      },
      "execution_count": null,
      "outputs": []
    }
  ]
}